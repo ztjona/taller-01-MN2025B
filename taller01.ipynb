{
 "cells": [
  {
   "cell_type": "markdown",
   "id": "6256f711",
   "metadata": {},
   "source": [
    "# Taller 01\n",
    "Jonathan Zea"
   ]
  },
  {
   "cell_type": "markdown",
   "id": "4aeba371",
   "metadata": {},
   "source": [
    "# Ejercicio 1\n",
    "¿Cuántos términos para que $S = 1 + 1/2 + 1/4+...$ tenga un error abs menor a $10^{-1}$?\n",
    "\n"
   ]
  },
  {
   "cell_type": "code",
   "execution_count": 8,
   "id": "69984972",
   "metadata": {},
   "outputs": [
    {
     "name": "stdout",
     "output_type": "stream",
     "text": [
      "Término 1: 1.0, Suma parcial: 1.0\n",
      "Término 2: 0.5, Suma parcial: 1.5\n",
      "Término 3: 0.25, Suma parcial: 1.75\n",
      "Término 4: 0.125, Suma parcial: 1.875\n",
      "Término 5: 0.0625, Suma parcial: 1.9375\n",
      "Suma: 1.9375, Número de términos: 5, Error absoluto: 0.0625\n"
     ]
    }
   ],
   "source": [
    "v_real = 2\n",
    "S = 0\n",
    "n = 0\n",
    "while True:\n",
    "    i = 1 / (2**n)\n",
    "    S += i\n",
    "    n += 1\n",
    "    print(f\"Término {n}: {i}, Suma parcial: {S}\")\n",
    "    error_abs = abs(v_real - S)\n",
    "    if error_abs < 10**-1:\n",
    "        break\n",
    "print(f\"Suma: {S}, Número de términos: {n}, Error absoluto: {error_abs}\")"
   ]
  }
 ],
 "metadata": {
  "kernelspec": {
   "display_name": "Python 3",
   "language": "python",
   "name": "python3"
  },
  "language_info": {
   "codemirror_mode": {
    "name": "ipython",
    "version": 3
   },
   "file_extension": ".py",
   "mimetype": "text/x-python",
   "name": "python",
   "nbconvert_exporter": "python",
   "pygments_lexer": "ipython3",
   "version": "3.11.9"
  }
 },
 "nbformat": 4,
 "nbformat_minor": 5
}
